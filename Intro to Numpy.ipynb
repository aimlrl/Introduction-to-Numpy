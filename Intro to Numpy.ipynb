{
 "cells": [
  {
   "cell_type": "code",
   "execution_count": 1,
   "metadata": {},
   "outputs": [],
   "source": [
    "import numpy as np"
   ]
  },
  {
   "cell_type": "code",
   "execution_count": 2,
   "metadata": {},
   "outputs": [],
   "source": [
    "l1 = [[1,2,3,4],[5,6,7,8]]"
   ]
  },
  {
   "cell_type": "code",
   "execution_count": 3,
   "metadata": {},
   "outputs": [],
   "source": [
    "A = np.array(l1)"
   ]
  },
  {
   "cell_type": "code",
   "execution_count": 4,
   "metadata": {},
   "outputs": [
    {
     "data": {
      "text/plain": [
       "array([[1, 2, 3, 4],\n",
       "       [5, 6, 7, 8]])"
      ]
     },
     "execution_count": 4,
     "metadata": {},
     "output_type": "execute_result"
    }
   ],
   "source": [
    "A"
   ]
  },
  {
   "cell_type": "code",
   "execution_count": 5,
   "metadata": {},
   "outputs": [],
   "source": [
    "row_means = np.mean(A,axis=1)"
   ]
  },
  {
   "cell_type": "code",
   "execution_count": 6,
   "metadata": {},
   "outputs": [
    {
     "data": {
      "text/plain": [
       "array([2.5, 6.5])"
      ]
     },
     "execution_count": 6,
     "metadata": {},
     "output_type": "execute_result"
    }
   ],
   "source": [
    "row_means"
   ]
  },
  {
   "cell_type": "code",
   "execution_count": 7,
   "metadata": {},
   "outputs": [],
   "source": [
    "column_means = np.mean(A,axis=0)"
   ]
  },
  {
   "cell_type": "code",
   "execution_count": 8,
   "metadata": {},
   "outputs": [
    {
     "data": {
      "text/plain": [
       "array([3., 4., 5., 6.])"
      ]
     },
     "execution_count": 8,
     "metadata": {},
     "output_type": "execute_result"
    }
   ],
   "source": [
    "column_means"
   ]
  },
  {
   "cell_type": "code",
   "execution_count": 9,
   "metadata": {},
   "outputs": [
    {
     "data": {
      "text/plain": [
       "(2,)"
      ]
     },
     "execution_count": 9,
     "metadata": {},
     "output_type": "execute_result"
    }
   ],
   "source": [
    "row_means.shape"
   ]
  },
  {
   "cell_type": "code",
   "execution_count": 10,
   "metadata": {},
   "outputs": [
    {
     "data": {
      "text/plain": [
       "(2, 4)"
      ]
     },
     "execution_count": 10,
     "metadata": {},
     "output_type": "execute_result"
    }
   ],
   "source": [
    "A.shape"
   ]
  },
  {
   "cell_type": "code",
   "execution_count": 11,
   "metadata": {},
   "outputs": [
    {
     "data": {
      "text/plain": [
       "array([3., 4., 5., 6.])"
      ]
     },
     "execution_count": 11,
     "metadata": {},
     "output_type": "execute_result"
    }
   ],
   "source": [
    "column_means"
   ]
  },
  {
   "cell_type": "code",
   "execution_count": 12,
   "metadata": {},
   "outputs": [],
   "source": [
    "row_means = row_means.reshape(2,1)"
   ]
  },
  {
   "cell_type": "code",
   "execution_count": 13,
   "metadata": {},
   "outputs": [
    {
     "data": {
      "text/plain": [
       "(2, 1)"
      ]
     },
     "execution_count": 13,
     "metadata": {},
     "output_type": "execute_result"
    }
   ],
   "source": [
    "row_means.shape"
   ]
  },
  {
   "cell_type": "code",
   "execution_count": 14,
   "metadata": {},
   "outputs": [
    {
     "data": {
      "text/plain": [
       "array([[2.5],\n",
       "       [6.5]])"
      ]
     },
     "execution_count": 14,
     "metadata": {},
     "output_type": "execute_result"
    }
   ],
   "source": [
    "row_means"
   ]
  },
  {
   "cell_type": "code",
   "execution_count": 15,
   "metadata": {},
   "outputs": [],
   "source": [
    "row_means = row_means.reshape(1,2)"
   ]
  },
  {
   "cell_type": "code",
   "execution_count": 16,
   "metadata": {},
   "outputs": [
    {
     "data": {
      "text/plain": [
       "array([[2.5, 6.5]])"
      ]
     },
     "execution_count": 16,
     "metadata": {},
     "output_type": "execute_result"
    }
   ],
   "source": [
    "row_means"
   ]
  },
  {
   "cell_type": "code",
   "execution_count": 20,
   "metadata": {},
   "outputs": [],
   "source": [
    "row_means = row_means.reshape(2,1,1,1)"
   ]
  },
  {
   "cell_type": "code",
   "execution_count": 21,
   "metadata": {},
   "outputs": [
    {
     "data": {
      "text/plain": [
       "array([[[[2.5]]],\n",
       "\n",
       "\n",
       "       [[[6.5]]]])"
      ]
     },
     "execution_count": 21,
     "metadata": {},
     "output_type": "execute_result"
    }
   ],
   "source": [
    "row_means"
   ]
  },
  {
   "cell_type": "code",
   "execution_count": 22,
   "metadata": {},
   "outputs": [],
   "source": [
    "column_means = column_means.reshape(1,4)"
   ]
  },
  {
   "cell_type": "code",
   "execution_count": 23,
   "metadata": {},
   "outputs": [
    {
     "data": {
      "text/plain": [
       "array([[3., 4., 5., 6.]])"
      ]
     },
     "execution_count": 23,
     "metadata": {},
     "output_type": "execute_result"
    }
   ],
   "source": [
    "column_means"
   ]
  },
  {
   "cell_type": "code",
   "execution_count": 24,
   "metadata": {},
   "outputs": [],
   "source": [
    "column_means = column_means.reshape(4,1)"
   ]
  },
  {
   "cell_type": "code",
   "execution_count": 25,
   "metadata": {},
   "outputs": [
    {
     "data": {
      "text/plain": [
       "array([[3.],\n",
       "       [4.],\n",
       "       [5.],\n",
       "       [6.]])"
      ]
     },
     "execution_count": 25,
     "metadata": {},
     "output_type": "execute_result"
    }
   ],
   "source": [
    "column_means"
   ]
  },
  {
   "cell_type": "code",
   "execution_count": 26,
   "metadata": {},
   "outputs": [],
   "source": [
    "column_means = column_means.reshape(2,2)"
   ]
  },
  {
   "cell_type": "code",
   "execution_count": 27,
   "metadata": {},
   "outputs": [
    {
     "data": {
      "text/plain": [
       "array([[3., 4.],\n",
       "       [5., 6.]])"
      ]
     },
     "execution_count": 27,
     "metadata": {},
     "output_type": "execute_result"
    }
   ],
   "source": [
    "column_means"
   ]
  },
  {
   "cell_type": "code",
   "execution_count": 28,
   "metadata": {},
   "outputs": [],
   "source": [
    "column_means = column_means.reshape(2,2,1)"
   ]
  },
  {
   "cell_type": "code",
   "execution_count": 29,
   "metadata": {},
   "outputs": [
    {
     "data": {
      "text/plain": [
       "array([[[3.],\n",
       "        [4.]],\n",
       "\n",
       "       [[5.],\n",
       "        [6.]]])"
      ]
     },
     "execution_count": 29,
     "metadata": {},
     "output_type": "execute_result"
    }
   ],
   "source": [
    "column_means"
   ]
  },
  {
   "cell_type": "code",
   "execution_count": 30,
   "metadata": {},
   "outputs": [],
   "source": [
    "column_means = column_means.reshape(1,2,2)"
   ]
  },
  {
   "cell_type": "code",
   "execution_count": 31,
   "metadata": {},
   "outputs": [
    {
     "data": {
      "text/plain": [
       "array([[[3., 4.],\n",
       "        [5., 6.]]])"
      ]
     },
     "execution_count": 31,
     "metadata": {},
     "output_type": "execute_result"
    }
   ],
   "source": [
    "column_means"
   ]
  },
  {
   "cell_type": "code",
   "execution_count": 32,
   "metadata": {},
   "outputs": [],
   "source": [
    "column_means = column_means.reshape(2,1,2)"
   ]
  },
  {
   "cell_type": "code",
   "execution_count": 33,
   "metadata": {},
   "outputs": [
    {
     "data": {
      "text/plain": [
       "array([[[3., 4.]],\n",
       "\n",
       "       [[5., 6.]]])"
      ]
     },
     "execution_count": 33,
     "metadata": {},
     "output_type": "execute_result"
    }
   ],
   "source": [
    "column_means"
   ]
  },
  {
   "cell_type": "code",
   "execution_count": 34,
   "metadata": {},
   "outputs": [],
   "source": [
    "column_means = column_means.reshape(1,4,1)"
   ]
  },
  {
   "cell_type": "code",
   "execution_count": 35,
   "metadata": {},
   "outputs": [
    {
     "data": {
      "text/plain": [
       "array([[[3.],\n",
       "        [4.],\n",
       "        [5.],\n",
       "        [6.]]])"
      ]
     },
     "execution_count": 35,
     "metadata": {},
     "output_type": "execute_result"
    }
   ],
   "source": [
    "column_means"
   ]
  },
  {
   "cell_type": "code",
   "execution_count": 36,
   "metadata": {},
   "outputs": [],
   "source": [
    "column_means = np.mean(A,axis=0)"
   ]
  },
  {
   "cell_type": "code",
   "execution_count": 37,
   "metadata": {},
   "outputs": [
    {
     "data": {
      "text/plain": [
       "array([3., 4., 5., 6.])"
      ]
     },
     "execution_count": 37,
     "metadata": {},
     "output_type": "execute_result"
    }
   ],
   "source": [
    "column_means"
   ]
  },
  {
   "cell_type": "code",
   "execution_count": 38,
   "metadata": {},
   "outputs": [],
   "source": [
    "column_means= column_means.reshape(2,-1)"
   ]
  },
  {
   "cell_type": "code",
   "execution_count": 39,
   "metadata": {},
   "outputs": [
    {
     "data": {
      "text/plain": [
       "array([[3., 4.],\n",
       "       [5., 6.]])"
      ]
     },
     "execution_count": 39,
     "metadata": {},
     "output_type": "execute_result"
    }
   ],
   "source": [
    "column_means"
   ]
  },
  {
   "cell_type": "code",
   "execution_count": 40,
   "metadata": {},
   "outputs": [],
   "source": [
    "column_means = column_means.reshape(4,-1)"
   ]
  },
  {
   "cell_type": "code",
   "execution_count": 41,
   "metadata": {},
   "outputs": [
    {
     "data": {
      "text/plain": [
       "array([[3.],\n",
       "       [4.],\n",
       "       [5.],\n",
       "       [6.]])"
      ]
     },
     "execution_count": 41,
     "metadata": {},
     "output_type": "execute_result"
    }
   ],
   "source": [
    "column_means"
   ]
  },
  {
   "cell_type": "code",
   "execution_count": 42,
   "metadata": {},
   "outputs": [],
   "source": [
    "column_means = column_means.reshape(-1,4)"
   ]
  },
  {
   "cell_type": "code",
   "execution_count": 43,
   "metadata": {},
   "outputs": [
    {
     "data": {
      "text/plain": [
       "array([[3., 4., 5., 6.]])"
      ]
     },
     "execution_count": 43,
     "metadata": {},
     "output_type": "execute_result"
    }
   ],
   "source": [
    "column_means"
   ]
  },
  {
   "cell_type": "code",
   "execution_count": 44,
   "metadata": {},
   "outputs": [],
   "source": [
    "column_means = column_means.reshape(2,-1,2)"
   ]
  },
  {
   "cell_type": "code",
   "execution_count": 45,
   "metadata": {},
   "outputs": [
    {
     "data": {
      "text/plain": [
       "(2, 1, 2)"
      ]
     },
     "execution_count": 45,
     "metadata": {},
     "output_type": "execute_result"
    }
   ],
   "source": [
    "column_means.shape"
   ]
  },
  {
   "cell_type": "code",
   "execution_count": 46,
   "metadata": {},
   "outputs": [],
   "source": [
    "column_means = column_means.reshape(1,-1,1)"
   ]
  },
  {
   "cell_type": "code",
   "execution_count": 47,
   "metadata": {},
   "outputs": [
    {
     "data": {
      "text/plain": [
       "(1, 4, 1)"
      ]
     },
     "execution_count": 47,
     "metadata": {},
     "output_type": "execute_result"
    }
   ],
   "source": [
    "column_means.shape"
   ]
  },
  {
   "cell_type": "code",
   "execution_count": 48,
   "metadata": {},
   "outputs": [
    {
     "data": {
      "text/plain": [
       "array([[[3.],\n",
       "        [4.],\n",
       "        [5.],\n",
       "        [6.]]])"
      ]
     },
     "execution_count": 48,
     "metadata": {},
     "output_type": "execute_result"
    }
   ],
   "source": [
    "column_means"
   ]
  },
  {
   "cell_type": "code",
   "execution_count": 50,
   "metadata": {},
   "outputs": [
    {
     "data": {
      "text/plain": [
       "array([3, 3], dtype=int64)"
      ]
     },
     "execution_count": 50,
     "metadata": {},
     "output_type": "execute_result"
    }
   ],
   "source": [
    "A.argmax(axis=1)"
   ]
  },
  {
   "cell_type": "code",
   "execution_count": 51,
   "metadata": {},
   "outputs": [
    {
     "data": {
      "text/plain": [
       "array([[0, 1, 2, 3],\n",
       "       [0, 1, 2, 3]], dtype=int64)"
      ]
     },
     "execution_count": 51,
     "metadata": {},
     "output_type": "execute_result"
    }
   ],
   "source": [
    "A.argsort()"
   ]
  },
  {
   "cell_type": "code",
   "execution_count": 52,
   "metadata": {},
   "outputs": [],
   "source": [
    "B = np.random.randint(low=0,high=200,size=(2,5))"
   ]
  },
  {
   "cell_type": "code",
   "execution_count": 53,
   "metadata": {},
   "outputs": [
    {
     "data": {
      "text/plain": [
       "array([[114, 156, 139, 114,  26],\n",
       "       [192, 108,  89,   1, 110]])"
      ]
     },
     "execution_count": 53,
     "metadata": {},
     "output_type": "execute_result"
    }
   ],
   "source": [
    "B"
   ]
  },
  {
   "cell_type": "code",
   "execution_count": 54,
   "metadata": {},
   "outputs": [
    {
     "data": {
      "text/plain": [
       "array([[4, 0, 3, 2, 1],\n",
       "       [3, 2, 1, 4, 0]], dtype=int64)"
      ]
     },
     "execution_count": 54,
     "metadata": {},
     "output_type": "execute_result"
    }
   ],
   "source": [
    "B.argsort()"
   ]
  },
  {
   "cell_type": "code",
   "execution_count": 55,
   "metadata": {},
   "outputs": [
    {
     "data": {
      "text/plain": [
       "array([114, 156, 139, 114,  26, 192, 108,  89,   1, 110])"
      ]
     },
     "execution_count": 55,
     "metadata": {},
     "output_type": "execute_result"
    }
   ],
   "source": [
    "B.flatten()"
   ]
  },
  {
   "cell_type": "code",
   "execution_count": 57,
   "metadata": {},
   "outputs": [
    {
     "data": {
      "text/plain": [
       "dtype('int32')"
      ]
     },
     "execution_count": 57,
     "metadata": {},
     "output_type": "execute_result"
    }
   ],
   "source": [
    "B.dtype"
   ]
  },
  {
   "cell_type": "code",
   "execution_count": 58,
   "metadata": {},
   "outputs": [
    {
     "data": {
      "text/plain": [
       "array([192, 156, 139, 114, 110])"
      ]
     },
     "execution_count": 58,
     "metadata": {},
     "output_type": "execute_result"
    }
   ],
   "source": [
    "B.max(axis=0)"
   ]
  },
  {
   "cell_type": "code",
   "execution_count": 60,
   "metadata": {},
   "outputs": [
    {
     "data": {
      "text/plain": [
       "array([26, 89,  1])"
      ]
     },
     "execution_count": 60,
     "metadata": {},
     "output_type": "execute_result"
    }
   ],
   "source": [
    "B[B < 100]"
   ]
  },
  {
   "cell_type": "code",
   "execution_count": 61,
   "metadata": {},
   "outputs": [
    {
     "data": {
      "text/plain": [
       "array([[156, 139, 114],\n",
       "       [108,  89,   1]])"
      ]
     },
     "execution_count": 61,
     "metadata": {},
     "output_type": "execute_result"
    }
   ],
   "source": [
    "B[:,1:4]"
   ]
  },
  {
   "cell_type": "code",
   "execution_count": 62,
   "metadata": {},
   "outputs": [
    {
     "data": {
      "text/plain": [
       "array([[1., 0., 0., 0., 0.],\n",
       "       [0., 1., 0., 0., 0.],\n",
       "       [0., 0., 1., 0., 0.],\n",
       "       [0., 0., 0., 1., 0.],\n",
       "       [0., 0., 0., 0., 1.]])"
      ]
     },
     "execution_count": 62,
     "metadata": {},
     "output_type": "execute_result"
    }
   ],
   "source": [
    "np.eye(5,5)"
   ]
  },
  {
   "cell_type": "code",
   "execution_count": 64,
   "metadata": {},
   "outputs": [
    {
     "data": {
      "text/plain": [
       "array([[2, 1],\n",
       "       [1, 2],\n",
       "       [2, 1],\n",
       "       [1, 1],\n",
       "       [1, 2],\n",
       "       [0, 1],\n",
       "       [2, 2],\n",
       "       [1, 1],\n",
       "       [1, 1],\n",
       "       [2, 2]])"
      ]
     },
     "execution_count": 64,
     "metadata": {},
     "output_type": "execute_result"
    }
   ],
   "source": [
    "np.random.binomial(n=2,p=0.65,size=(10,2))"
   ]
  },
  {
   "cell_type": "markdown",
   "metadata": {},
   "source": [
    "# we are going to talk about this in another video (np.random.multinomial)"
   ]
  },
  {
   "cell_type": "code",
   "execution_count": 67,
   "metadata": {},
   "outputs": [
    {
     "data": {
      "text/plain": [
       "array([[ 1.25085614,  1.00526079, -0.4796441 , -0.82156895],\n",
       "       [ 0.47523545, -0.64777652,  0.48343981,  0.80961714],\n",
       "       [-0.06497154, -0.83101609, -0.96930861,  0.90888311],\n",
       "       [-1.01245722,  0.75943606, -0.34861731, -0.37717262],\n",
       "       [ 0.02466837, -0.45769747,  0.46969211, -0.07315416],\n",
       "       [ 1.0716407 ,  1.61241192,  0.19168326, -0.3660396 ],\n",
       "       [ 2.05704161, -1.94053175, -1.4432579 ,  0.01234799],\n",
       "       [-0.410794  , -0.66497006, -1.15598346,  0.49302503],\n",
       "       [-0.46246741,  0.13359387,  1.23846397, -0.94340016],\n",
       "       [ 0.80543585,  0.89925308, -0.3752666 , -1.16874399]])"
      ]
     },
     "execution_count": 67,
     "metadata": {},
     "output_type": "execute_result"
    }
   ],
   "source": [
    "np.random.randn(10,4)"
   ]
  },
  {
   "cell_type": "code",
   "execution_count": 68,
   "metadata": {},
   "outputs": [
    {
     "data": {
      "text/plain": [
       "array([56.38639512, 51.63397021, 62.65825018, 64.1623292 , 73.95937973,\n",
       "       68.44284989, 71.03704075, 54.02339673, 69.20814349, 66.76105542,\n",
       "       67.1722311 , 62.87670453, 69.67534788, 65.8768502 , 63.86297647,\n",
       "       55.2329283 , 69.51397344, 63.6519926 , 55.38533034, 72.3869794 ,\n",
       "       62.35714965, 69.90900151, 56.91091063, 61.49562996, 59.7897885 ,\n",
       "       64.61945239, 67.8488456 , 63.50739143, 75.66026983, 65.2981821 ,\n",
       "       72.48851905, 71.14509915, 61.55009592, 64.20280169, 63.17382151,\n",
       "       65.78860716, 64.75913936, 71.53057983, 66.19847261, 54.60794097,\n",
       "       68.78387796, 65.10357125, 65.86204624, 63.5078634 , 67.33360742,\n",
       "       55.54299735, 75.43911595, 64.02014982, 63.662112  , 63.33763968,\n",
       "       54.67708187, 70.35021353, 63.14743136, 66.9323636 , 69.15867512,\n",
       "       58.49016136, 69.22965928, 65.15258879, 59.73163843, 55.76009033,\n",
       "       57.1153548 , 63.40865275, 69.75124318, 65.84858963, 71.51367556,\n",
       "       63.94425861, 57.79618428, 70.31964165, 59.57942907, 61.93267118,\n",
       "       64.26672322, 69.69550107, 77.16827843, 67.3798482 , 59.40211776,\n",
       "       66.68842176, 65.18026531, 66.91196268, 63.39674767, 65.08878833,\n",
       "       63.21528605, 68.27327162, 76.59663824, 70.47698922, 65.53832349,\n",
       "       65.37765601, 71.41578736, 59.83833978, 70.85305938, 57.81114835,\n",
       "       65.29468032, 68.9723955 , 63.55442028, 71.61261633, 68.31906101,\n",
       "       65.6451739 , 61.97338172, 62.91417721, 64.42218306, 73.11434028])"
      ]
     },
     "execution_count": 68,
     "metadata": {},
     "output_type": "execute_result"
    }
   ],
   "source": [
    "np.random.normal(loc=65,scale=5,size=(100,))"
   ]
  },
  {
   "cell_type": "code",
   "execution_count": 69,
   "metadata": {},
   "outputs": [
    {
     "data": {
      "text/plain": [
       "array([[114, 156, 139, 114,  26],\n",
       "       [192, 108,  89,   1, 110]])"
      ]
     },
     "execution_count": 69,
     "metadata": {},
     "output_type": "execute_result"
    }
   ],
   "source": [
    "B"
   ]
  },
  {
   "cell_type": "code",
   "execution_count": 72,
   "metadata": {},
   "outputs": [
    {
     "data": {
      "text/plain": [
       "array([1, 2], dtype=int64)"
      ]
     },
     "execution_count": 72,
     "metadata": {},
     "output_type": "execute_result"
    }
   ],
   "source": [
    "np.count_nonzero(B < 100,axis=1)"
   ]
  },
  {
   "cell_type": "code",
   "execution_count": 73,
   "metadata": {},
   "outputs": [],
   "source": [
    "random_array = np.random.randint(low=45,high=501,size=(500,2))"
   ]
  },
  {
   "cell_type": "code",
   "execution_count": 74,
   "metadata": {},
   "outputs": [
    {
     "data": {
      "text/plain": [
       "(500, 2)"
      ]
     },
     "execution_count": 74,
     "metadata": {},
     "output_type": "execute_result"
    }
   ],
   "source": [
    "random_array.shape"
   ]
  },
  {
   "cell_type": "code",
   "execution_count": 77,
   "metadata": {},
   "outputs": [],
   "source": [
    "random_array = random_array.reshape(125,-1,1)"
   ]
  },
  {
   "cell_type": "code",
   "execution_count": 78,
   "metadata": {},
   "outputs": [
    {
     "data": {
      "text/plain": [
       "(125, 8, 1)"
      ]
     },
     "execution_count": 78,
     "metadata": {},
     "output_type": "execute_result"
    }
   ],
   "source": [
    "random_array.shape"
   ]
  },
  {
   "cell_type": "code",
   "execution_count": 79,
   "metadata": {},
   "outputs": [],
   "source": [
    "random_array = random_array.reshape(125,1,-1)"
   ]
  },
  {
   "cell_type": "code",
   "execution_count": 80,
   "metadata": {},
   "outputs": [
    {
     "data": {
      "text/plain": [
       "(125, 1, 8)"
      ]
     },
     "execution_count": 80,
     "metadata": {},
     "output_type": "execute_result"
    }
   ],
   "source": [
    "random_array.shape"
   ]
  },
  {
   "cell_type": "code",
   "execution_count": 82,
   "metadata": {},
   "outputs": [
    {
     "data": {
      "text/plain": [
       "array([[[453, 149, 363, 189],\n",
       "        [442, 451, 191, 146]],\n",
       "\n",
       "       [[ 70, 397, 147, 356],\n",
       "        [407, 310, 112, 141]],\n",
       "\n",
       "       [[136, 296,  52, 252],\n",
       "        [125, 496, 105, 386]],\n",
       "\n",
       "       [[453,  51, 238, 156],\n",
       "        [220, 300,  69, 256]],\n",
       "\n",
       "       [[131,  85, 391, 244],\n",
       "        [374, 413, 301, 466]],\n",
       "\n",
       "       [[178, 469, 234, 148],\n",
       "        [439,  79, 275, 180]],\n",
       "\n",
       "       [[141, 237, 175, 284],\n",
       "        [191, 129, 331, 311]],\n",
       "\n",
       "       [[348, 409, 410, 259],\n",
       "        [267, 125, 238, 244]],\n",
       "\n",
       "       [[331, 458, 495, 492],\n",
       "        [396, 167, 478, 201]],\n",
       "\n",
       "       [[476, 216, 397, 368],\n",
       "        [ 89, 299, 451, 372]],\n",
       "\n",
       "       [[227, 329, 416, 498],\n",
       "        [179, 149, 391, 142]],\n",
       "\n",
       "       [[350, 444,  77, 416],\n",
       "        [421, 287, 225, 319]],\n",
       "\n",
       "       [[ 81, 148, 168, 244],\n",
       "        [232, 231, 452, 163]],\n",
       "\n",
       "       [[ 57, 143, 301, 288],\n",
       "        [317, 329, 163, 132]],\n",
       "\n",
       "       [[173, 161, 486, 279],\n",
       "        [ 48, 311,  57, 313]],\n",
       "\n",
       "       [[ 96, 153, 498,  55],\n",
       "        [417, 448, 266, 183]],\n",
       "\n",
       "       [[283, 453, 203,  64],\n",
       "        [ 78, 221, 131, 377]],\n",
       "\n",
       "       [[121, 402, 316, 150],\n",
       "        [446, 343, 131, 364]],\n",
       "\n",
       "       [[457, 348, 428,  92],\n",
       "        [242, 215,  63, 448]],\n",
       "\n",
       "       [[ 93, 126, 153, 250],\n",
       "        [417, 461, 385,  76]],\n",
       "\n",
       "       [[181, 200, 261, 196],\n",
       "        [110, 188, 454, 174]],\n",
       "\n",
       "       [[317,  94, 378, 311],\n",
       "        [221, 201, 135, 281]],\n",
       "\n",
       "       [[473, 367, 288, 299],\n",
       "        [496, 360, 476,  95]],\n",
       "\n",
       "       [[288, 395, 338, 167],\n",
       "        [ 67, 370, 411, 366]],\n",
       "\n",
       "       [[461, 491, 275,  46],\n",
       "        [345, 274, 472, 266]],\n",
       "\n",
       "       [[363, 468, 140, 191],\n",
       "        [182, 131,  68,  48]],\n",
       "\n",
       "       [[300, 283, 477, 205],\n",
       "        [469, 215, 487, 381]],\n",
       "\n",
       "       [[229, 255, 311, 493],\n",
       "        [363, 279, 287, 162]],\n",
       "\n",
       "       [[180,  51, 151,  69],\n",
       "        [305, 301, 394, 306]],\n",
       "\n",
       "       [[221, 492, 445, 379],\n",
       "        [310, 336, 270, 240]],\n",
       "\n",
       "       [[241,  65, 500, 388],\n",
       "        [307, 145, 237, 228]],\n",
       "\n",
       "       [[341, 279, 220, 103],\n",
       "        [229, 157, 383, 336]],\n",
       "\n",
       "       [[112, 141, 232, 227],\n",
       "        [462, 112, 401, 408]],\n",
       "\n",
       "       [[114, 406, 252,  48],\n",
       "        [267, 124, 495, 154]],\n",
       "\n",
       "       [[201, 138, 266, 139],\n",
       "        [174, 430, 346, 216]],\n",
       "\n",
       "       [[232, 196, 466, 463],\n",
       "        [ 82, 260, 443, 459]],\n",
       "\n",
       "       [[142, 200, 369, 193],\n",
       "        [245,  82, 498,  46]],\n",
       "\n",
       "       [[ 95, 421, 497, 358],\n",
       "        [448, 403, 318,  86]],\n",
       "\n",
       "       [[278, 271, 142, 193],\n",
       "        [ 56, 419, 130, 444]],\n",
       "\n",
       "       [[420, 344, 103, 218],\n",
       "        [121, 136, 166, 187]],\n",
       "\n",
       "       [[ 55, 347, 171, 242],\n",
       "        [314, 264, 122, 362]],\n",
       "\n",
       "       [[320, 235, 227, 275],\n",
       "        [297, 138, 114, 133]],\n",
       "\n",
       "       [[444, 107, 235, 134],\n",
       "        [442, 136, 125, 259]],\n",
       "\n",
       "       [[ 67, 299, 177, 374],\n",
       "        [278, 365, 183, 157]],\n",
       "\n",
       "       [[342, 289, 290, 100],\n",
       "        [392, 465, 227, 451]],\n",
       "\n",
       "       [[442,  74, 327, 225],\n",
       "        [251, 272, 174, 300]],\n",
       "\n",
       "       [[473, 335,  50, 231],\n",
       "        [ 67, 336, 172, 199]],\n",
       "\n",
       "       [[390,  96, 451, 171],\n",
       "        [ 92, 477, 162, 191]],\n",
       "\n",
       "       [[357, 102, 201, 452],\n",
       "        [145, 374, 299,  83]],\n",
       "\n",
       "       [[475, 499, 355, 353],\n",
       "        [293,  70, 151, 414]],\n",
       "\n",
       "       [[ 52, 242, 376, 124],\n",
       "        [406, 272,  55, 276]],\n",
       "\n",
       "       [[146, 172, 234, 262],\n",
       "        [256, 155, 265,  70]],\n",
       "\n",
       "       [[298, 436, 447, 111],\n",
       "        [217, 351,  99,  99]],\n",
       "\n",
       "       [[201, 327, 436, 120],\n",
       "        [329, 434, 203, 192]],\n",
       "\n",
       "       [[228, 467, 479, 382],\n",
       "        [222,  99, 409, 481]],\n",
       "\n",
       "       [[ 90, 384, 191, 378],\n",
       "        [ 95, 438, 116, 224]],\n",
       "\n",
       "       [[282, 268, 487, 301],\n",
       "        [143, 213, 214, 389]],\n",
       "\n",
       "       [[234, 445, 165, 326],\n",
       "        [495, 470, 163, 160]],\n",
       "\n",
       "       [[347, 389, 479, 345],\n",
       "        [308, 438, 259, 355]],\n",
       "\n",
       "       [[427, 333, 485, 349],\n",
       "        [386, 150, 120, 172]],\n",
       "\n",
       "       [[474, 132,  50, 273],\n",
       "        [490, 277, 409, 262]],\n",
       "\n",
       "       [[191, 149, 278, 354],\n",
       "        [112, 375, 431, 331]],\n",
       "\n",
       "       [[337, 432, 423, 230],\n",
       "        [241, 498, 479, 204]],\n",
       "\n",
       "       [[ 51, 318, 461, 214],\n",
       "        [396, 211, 373, 427]],\n",
       "\n",
       "       [[ 91, 260, 235,  80],\n",
       "        [ 83, 496, 357, 231]],\n",
       "\n",
       "       [[223, 242, 351, 492],\n",
       "        [ 76, 416, 499,  50]],\n",
       "\n",
       "       [[ 92,  90, 394,  61],\n",
       "        [345, 209, 154,  67]],\n",
       "\n",
       "       [[198, 125, 478, 182],\n",
       "        [387, 410, 208, 351]],\n",
       "\n",
       "       [[380, 453, 177, 142],\n",
       "        [481, 311,  56, 346]],\n",
       "\n",
       "       [[364, 500, 398, 431],\n",
       "        [185, 366, 241, 275]],\n",
       "\n",
       "       [[157, 393, 148, 475],\n",
       "        [347,  65, 118, 114]],\n",
       "\n",
       "       [[ 45, 425, 337, 230],\n",
       "        [424, 355, 427, 379]],\n",
       "\n",
       "       [[205,  88, 127, 173],\n",
       "        [156, 500, 284,  50]],\n",
       "\n",
       "       [[227, 398, 184, 267],\n",
       "        [ 63, 254, 447,  84]],\n",
       "\n",
       "       [[219, 267,  97,  95],\n",
       "        [468, 438, 347, 175]],\n",
       "\n",
       "       [[ 54, 455,  73, 218],\n",
       "        [418, 345, 382, 471]],\n",
       "\n",
       "       [[ 62, 378,  66, 206],\n",
       "        [203,  53, 398, 372]],\n",
       "\n",
       "       [[322, 155, 445, 285],\n",
       "        [382, 472, 161, 482]],\n",
       "\n",
       "       [[268, 104, 149, 348],\n",
       "        [271, 385, 443, 107]],\n",
       "\n",
       "       [[ 79, 320, 255, 243],\n",
       "        [347,  45,  84, 326]],\n",
       "\n",
       "       [[ 51,  48, 290, 421],\n",
       "        [354, 307, 495, 494]],\n",
       "\n",
       "       [[203, 224, 325, 450],\n",
       "        [128, 211, 187, 426]],\n",
       "\n",
       "       [[491, 334, 471, 296],\n",
       "        [323, 316, 317, 493]],\n",
       "\n",
       "       [[442, 498,  75, 158],\n",
       "        [181, 187, 299, 338]],\n",
       "\n",
       "       [[114, 424, 234, 330],\n",
       "        [ 91, 271, 386,  92]],\n",
       "\n",
       "       [[335,  91, 242, 200],\n",
       "        [451, 114, 137, 255]],\n",
       "\n",
       "       [[492, 460, 481, 467],\n",
       "        [469, 115, 303, 102]],\n",
       "\n",
       "       [[325,  61, 463, 131],\n",
       "        [142, 121, 135,  73]],\n",
       "\n",
       "       [[131,  58,  84,  97],\n",
       "        [458, 355,  69,  69]],\n",
       "\n",
       "       [[467, 416, 210, 276],\n",
       "        [168, 288, 167, 145]],\n",
       "\n",
       "       [[449, 398, 371, 448],\n",
       "        [368, 258, 500, 212]],\n",
       "\n",
       "       [[341, 372, 144, 341],\n",
       "        [457, 240, 293, 468]],\n",
       "\n",
       "       [[341, 441,  73,  87],\n",
       "        [378, 133, 425,  89]],\n",
       "\n",
       "       [[451, 236,  81, 277],\n",
       "        [491, 312, 258, 418]],\n",
       "\n",
       "       [[ 79,  78, 257, 353],\n",
       "        [355, 179, 313,  97]],\n",
       "\n",
       "       [[387, 441, 115, 390],\n",
       "        [294,  46, 238, 418]],\n",
       "\n",
       "       [[434, 257, 264, 445],\n",
       "        [382, 407, 239, 121]],\n",
       "\n",
       "       [[200, 179,  80, 380],\n",
       "        [426, 169, 157, 209]],\n",
       "\n",
       "       [[385, 436, 453, 149],\n",
       "        [224,  76, 288, 218]],\n",
       "\n",
       "       [[271, 209, 395, 244],\n",
       "        [ 47, 489, 126,  65]],\n",
       "\n",
       "       [[254, 403, 206, 179],\n",
       "        [236, 364, 340, 437]],\n",
       "\n",
       "       [[376, 330, 292, 469],\n",
       "        [381, 207, 233, 406]],\n",
       "\n",
       "       [[220, 258, 332, 313],\n",
       "        [138, 440, 463, 393]],\n",
       "\n",
       "       [[175, 428, 344, 334],\n",
       "        [130, 315, 284, 305]],\n",
       "\n",
       "       [[313, 264, 281, 386],\n",
       "        [213, 261, 433, 129]],\n",
       "\n",
       "       [[240, 126, 288, 344],\n",
       "        [329, 187, 138, 423]],\n",
       "\n",
       "       [[227, 163, 437,  70],\n",
       "        [256, 424, 225, 418]],\n",
       "\n",
       "       [[135, 449, 195, 248],\n",
       "        [165, 123, 220, 128]],\n",
       "\n",
       "       [[300, 420, 156, 117],\n",
       "        [194, 373, 197, 447]],\n",
       "\n",
       "       [[111, 142, 500, 325],\n",
       "        [332, 182,  83, 328]],\n",
       "\n",
       "       [[335, 336, 173, 361],\n",
       "        [241, 208, 119, 388]],\n",
       "\n",
       "       [[439,  87, 465, 302],\n",
       "        [ 57, 137, 423, 349]],\n",
       "\n",
       "       [[467, 433, 386, 452],\n",
       "        [ 74,  76,  61,  77]],\n",
       "\n",
       "       [[ 72, 403, 400,  93],\n",
       "        [ 70, 203,  96, 169]],\n",
       "\n",
       "       [[261, 210, 128, 182],\n",
       "        [ 80, 445, 489,  96]],\n",
       "\n",
       "       [[291, 496, 339, 322],\n",
       "        [433,  73, 317, 237]],\n",
       "\n",
       "       [[422,  54, 361, 343],\n",
       "        [365, 361, 106, 124]],\n",
       "\n",
       "       [[181, 262,  45,  66],\n",
       "        [296, 278, 307, 398]],\n",
       "\n",
       "       [[280, 279, 387,  72],\n",
       "        [450, 489, 374, 442]],\n",
       "\n",
       "       [[225, 184, 456, 226],\n",
       "        [155, 209, 136, 203]],\n",
       "\n",
       "       [[223, 313, 203, 483],\n",
       "        [335, 500, 453,  58]],\n",
       "\n",
       "       [[388,  72, 199, 384],\n",
       "        [332, 124, 147, 311]],\n",
       "\n",
       "       [[398, 345,  99, 194],\n",
       "        [120, 155, 276, 320]],\n",
       "\n",
       "       [[448, 250, 427, 324],\n",
       "        [492, 112, 467, 285]],\n",
       "\n",
       "       [[438,  55,  93, 437],\n",
       "        [330,  88, 350, 105]]])"
      ]
     },
     "execution_count": 82,
     "metadata": {},
     "output_type": "execute_result"
    }
   ],
   "source": [
    "random_array.reshape(125,-1,4)"
   ]
  },
  {
   "cell_type": "code",
   "execution_count": null,
   "metadata": {},
   "outputs": [],
   "source": []
  }
 ],
 "metadata": {
  "kernelspec": {
   "display_name": "Python 3",
   "language": "python",
   "name": "python3"
  },
  "language_info": {
   "codemirror_mode": {
    "name": "ipython",
    "version": 3
   },
   "file_extension": ".py",
   "mimetype": "text/x-python",
   "name": "python",
   "nbconvert_exporter": "python",
   "pygments_lexer": "ipython3",
   "version": "3.7.3"
  }
 },
 "nbformat": 4,
 "nbformat_minor": 2
}
